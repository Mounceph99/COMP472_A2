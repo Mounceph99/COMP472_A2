{
 "cells": [
  {
   "cell_type": "code",
   "execution_count": null,
   "id": "documented-mozambique",
   "metadata": {},
   "outputs": [],
   "source": [
    "# Imports\n"
   ]
  },
  {
   "cell_type": "code",
   "execution_count": null,
   "id": "original-optimization",
   "metadata": {},
   "outputs": [],
   "source": [
    "# Class definition for S-Puzzle\n",
    "class S_Puzzle:\n",
    "    def __init__(self, initial_state):\n",
    "        # Assume input initial_state is valid\n",
    "        self.__size = len(initial_state)\n",
    "        self.set_state(initial_state)\n",
    "    \n",
    "    def get_size(self):\n",
    "        return self.__size\n",
    "    \n",
    "    def get_state(self):\n",
    "        return self.__state\n",
    "    \n",
    "    def set_state(self, state):\n",
    "        # Assume input state is valid, and same size as self.__size\n",
    "        self.__state = state\n",
    "        \n",
    "    def get_current_state_children(self):\n",
    "        children = []\n",
    "        n = self.__size\n",
    "        state = self.__state\n",
    "        \n",
    "        # Horizontal swaps\n",
    "        for row in range(n):\n",
    "            row_tuple = self.__state[row]\n",
    "            for col in range(n-1):\n",
    "                new_row = row_tuple[:col] + (row_tuple[col+1],) + (row_tuple[col],) + row_tuple[col+2:]\n",
    "                new_tuple = state[:row] + (new_row,) + state[row+1:]\n",
    "                children.append(new_tuple)\n",
    "        \n",
    "        # Vertical swaps\n",
    "        for row in range(n-1):\n",
    "            row1 = state[row]\n",
    "            row2 = state[row+1]\n",
    "            for col in range(n):\n",
    "                new_row1 = row1[:col] + (row2[col],) + row1[col+1:]\n",
    "                new_row2 = row2[:col] + (row1[col],) + row2[col+1:]\n",
    "                new_tuple = state[:row] + (new_row1,) + (new_row2,) + state[row+2:]\n",
    "                children.append(new_tuple)\n",
    "        \n",
    "        return children"
   ]
  },
  {
   "cell_type": "code",
   "execution_count": null,
   "id": "grand-miller",
   "metadata": {
    "scrolled": true
   },
   "outputs": [],
   "source": [
    "puzzle = S_Puzzle( ((6, 1, 2), (7, 8, 3), (5, 4, 9)) )\n",
    "puzzle.get_current_state_children()"
   ]
  }
 ],
 "metadata": {
  "kernelspec": {
   "display_name": "Python 3",
   "language": "python",
   "name": "python3"
  },
  "language_info": {
   "codemirror_mode": {
    "name": "ipython",
    "version": 3
   },
   "file_extension": ".py",
   "mimetype": "text/x-python",
   "name": "python",
   "nbconvert_exporter": "python",
   "pygments_lexer": "ipython3",
   "version": "3.7.9"
  }
 },
 "nbformat": 4,
 "nbformat_minor": 5
}
